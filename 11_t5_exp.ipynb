{
 "cells": [
  {
   "cell_type": "markdown",
   "id": "498bb7b5-3414-41a0-9b01-06807cc721a5",
   "metadata": {},
   "source": [
    "1. Find a suitable dataset containing articles textual contents and titles.\n",
    "2. Choose a suitable metric for our task.\n",
    "3. Fine-tune a pre-trained model for title generation on Colab, monitoring the chosen metric on the validation set using TensorBoard, and saving the model’s checkpoints on Google Drive (so that we can resume training in case Colab shuts down the connection).\n",
    "4. Upload the model on Hugging Face Hub for everyone to use.\n",
    "5. Build an interactive demo with Streamlit and deploy it to Hugging Face Spaces."
   ]
  },
  {
   "cell_type": "markdown",
   "id": "d1a0b8f1-f0a4-4011-b839-a9d0f6f7efc5",
   "metadata": {},
   "source": [
    "## 1. scraping dataset \n",
    "https://github.com/codelucas/newspaper\n",
    "\n",
    "passed for now, downloading datasets directly from \n",
    "\n",
    "https://www.kaggle.com/datasets/fabiochiusano/medium-articles\n",
    "\n",
    "to /datasets/medium_articles.csv"
   ]
  },
  {
   "cell_type": "markdown",
   "id": "9538ae84-df9c-4f3f-b11e-cb13e2a8130e",
   "metadata": {},
   "source": [
    "## 2. explore datasets, create training and testing set"
   ]
  },
  {
   "cell_type": "code",
   "execution_count": 1,
   "id": "c18da9ea-4a3b-4c26-9b53-e893919d3fa7",
   "metadata": {},
   "outputs": [],
   "source": [
    "# load raw set\n",
    "import pandas\n",
    "raw_dataset_path = \"/data/agent_h/datasets/medium_articles.csv\"\n",
    "tmp_df = pandas.read_csv(raw_dataset_path)\n",
    "dicts = tmp_df.to_dict('records')"
   ]
  },
  {
   "cell_type": "code",
   "execution_count": 2,
   "id": "06e62fa5-0682-4f08-8266-6f1f8e00fabb",
   "metadata": {},
   "outputs": [
    {
     "name": "stdout",
     "output_type": "stream",
     "text": [
      "192368\n",
      "{'authors': \"['Ryan Fan']\",\n",
      " 'tags': \"['Mental Health', 'Health', 'Psychology', 'Science', 'Neuroscience']\",\n",
      " 'text': 'Photo by Josh Riemer on Unsplash\\n'\n",
      "         '\\n'\n",
      "         'Merry Christmas and Happy Holidays, everyone!\\n'\n",
      "         '\\n'\n",
      "         'We just wanted everyone to know how much we appreciate everyone and '\n",
      "         'how thankful we are for all our readers and writers here. We '\n",
      "         'wouldn’t be anywhere without you, so thank you all for bringing '\n",
      "         'informative, vulnerable, and important pieces that destigmatize '\n",
      "         'mental illness and mental health.\\n'\n",
      "         '\\n'\n",
      "         'Without further ado, here are ten of our top stories from last week, '\n",
      "         'all of which were curated:\\n'\n",
      "         '\\n'\n",
      "         '“Just as the capacity to love and inspire is universal so is the '\n",
      "         'capacity to hate and discourage. Irrespective of gender, race, age '\n",
      "         'or religion none of us are exempt from aggressive proclivities. '\n",
      "         'Those who are narcissistically disordered, and accordingly repress '\n",
      "         'deep seated feelings of inferiority with inflated delusions of '\n",
      "         'grandeur and superiority, are more prone to aggression and violence. '\n",
      "         'They infiltrate our interactions in myriad environments from home, '\n",
      "         'work, school and the cyber world. Hence, bullying does not happen in '\n",
      "         'isolation. Although there is a ringleader she looks to her minions '\n",
      "         'to either sanction her cruelty or look the other way.”\\n'\n",
      "         '\\n'\n",
      "         '“Even though the circumstances that brought me here were sad and '\n",
      "         'challenging, I’m grateful for how this program has changed my life '\n",
      "         'for the better. I can’t help but imagine what life would be like if '\n",
      "         'everyone learned to accept their powerlessness over other people, '\n",
      "         'prioritize their serenity, and take life one step at a time. We’ll '\n",
      "         'never know, but I’d bet the world would be much happier.”\\n'\n",
      "         '\\n'\n",
      "         '“The prospect of spending a horrible Christmas, locked in on a '\n",
      "         'psychiatric unit, was one of the low points of my life. For weeks, '\n",
      "         'the day room was festooned with cheesy decorations and a sorry pink '\n",
      "         'aluminum tree. All of our “activity” therapies revolved around the '\n",
      "         'holidays. We baked and decorated cookies. We fashioned quick-drying '\n",
      "         'clay into ornaments that turned out to be too heavy for the tree. '\n",
      "         'Crappy Christmas carols were background torture. It was hard to get '\n",
      "         'pissed off at the staff because they were making the best with what '\n",
      "         'they had.”\\n'\n",
      "         '\\n'\n",
      "         '“Although I hate to admit it, even if my ex had never betrayed me, I '\n",
      "         'still wouldn’t have been happy. I had set him up for an impossible '\n",
      "         'job — to define me and make me whole. If I cannot find peace and '\n",
      "         'contentment within myself, how could anyone else do it for me?”\\n'\n",
      "         '\\n'\n",
      "         '“On a personal note, significant feelings of loss and sadness can '\n",
      "         'still flare up from time to time. That’s only natural; it’s no '\n",
      "         'reason for self-critique. No matter how resilient we purport to be, '\n",
      "         'we are all emotionally vulnerable human beings. Besides, we aren’t '\n",
      "         'talking about some conceptual loss that we can just mechanically '\n",
      "         'compartmentalize away — we are talking about the loss of our '\n",
      "         'fathers, mothers, sisters and brothers.”\\n'\n",
      "         '\\n'\n",
      "         '“The next six weeks will be hard as cases continue to explode and '\n",
      "         'government leadership remains nonexistent. I can’t control any of '\n",
      "         'this. The only thing I can do is take deep breaths, remain vigilant '\n",
      "         'when it comes to limiting exposure to the virus, and let lots of '\n",
      "         'stuff go. I may always be a hypochondriac, but now that I recognize '\n",
      "         'the beast, I’m hopeful I’ll be able to tame it.”\\n'\n",
      "         '\\n'\n",
      "         '“From anecdotal news reports and informal surveys, there is evidence '\n",
      "         'that for some of us, this pandemic-imposed isolation is a boon '\n",
      "         'rather than a trial. One study on mixed emotions showed that those '\n",
      "         'with lower emotional stability (“moody” personalities) are actually '\n",
      "         'better at responding to uncertainty.”\\n'\n",
      "         '\\n'\n",
      "         '“Every day I wish in my heart and soul that I didn’t have ME/CFS. '\n",
      "         'Unfortunately, I do. It’s a result of a virus I had; 10–12 percent '\n",
      "         'of people who experience a serious infection go on to develop ME. '\n",
      "         'I’ve visualized life without CFS for over a year now; I can smell '\n",
      "         'life without it, I can taste it. It’s in the smell of the lavender '\n",
      "         'fields that I can no longer run through. It’s in the taste of the '\n",
      "         'meals from my favorite restaurant that I can no longer walk to. It’s '\n",
      "         'on the tip of my tongue. It’s in the potentialities; all the things '\n",
      "         'I could be doing, as a twenty-four year-old, that I can’t. I cannot '\n",
      "         'cross the chasm between the potential and the reality. And that’s '\n",
      "         'nothing to do with manifestation.”\\n'\n",
      "         '\\n'\n",
      "         '“Whether it’s cabin fever, redundancy, loss, or general Covid '\n",
      "         'anxieties, this year has caused us to be exposed to more uncertainty '\n",
      "         'than ever. Uncertainty creates unease and feelings of stress. Some '\n",
      "         'of us may have taken this year as one to motivate — plan dream '\n",
      "         'trips, and prepare and be inspired for what the future could bring. '\n",
      "         'For the rest, it has caused us to become irrational, emotional, and '\n",
      "         'reserved.\\n'\n",
      "         '\\n'\n",
      "         '“To be more self-compassionate is a task that can be tricky because '\n",
      "         'we always want to push ourselves and do better. Without realising '\n",
      "         'it, this can lead to us being self-critical which can have damaging '\n",
      "         'consequences.\\n'\n",
      "         '\\n'\n",
      "         'It’s important to notice these times when we are harsh because we '\n",
      "         'can easily turn it into self-compassion, which is linked to a better '\n",
      "         'quality of life.”\\n'\n",
      "         '\\n'\n",
      "         'Merry Christmas and Happy Holidays, everyone!\\n'\n",
      "         '\\n'\n",
      "         '— Ryan, Juliette, Marie, and Meredith',\n",
      " 'timestamp': '2020-12-26 03:38:10.479000+00:00',\n",
      " 'title': 'Mental Note Vol. 24',\n",
      " 'url': 'https://medium.com/invisible-illness/mental-note-vol-24-969b6a42443f'}\n"
     ]
    }
   ],
   "source": [
    "# explore data format\n",
    "from pprint import pprint\n",
    "print(len(dicts))\n",
    "sample_dict = dicts[0].copy()\n",
    "sample_dict['text'] = sample_dict['text'][:200]\n",
    "pprint(dicts[0])"
   ]
  },
  {
   "cell_type": "code",
   "execution_count": 3,
   "id": "576f678d-549b-445c-b63f-8c2e3161cc98",
   "metadata": {},
   "outputs": [
    {
     "name": "stderr",
     "output_type": "stream",
     "text": [
      "/home/agent_h/miniconda3/envs/vsr3/lib/python3.10/site-packages/tqdm/auto.py:21: TqdmWarning: IProgress not found. Please update jupyter and ipywidgets. See https://ipywidgets.readthedocs.io/en/stable/user_install.html\n",
      "  from .autonotebook import tqdm as notebook_tqdm\n"
     ]
    },
    {
     "name": "stdout",
     "output_type": "stream",
     "text": [
      "{<class 'str'>, <class 'float'>}\n",
      "192361\n"
     ]
    }
   ],
   "source": [
    "# use dataset lib, https://huggingface.co/docs/datasets/en/loading\n",
    "# best way would be raw_data -> process into train -> save as csv or json chunks -> load as dataset\n",
    "import transformers\n",
    "from datasets import load_dataset, load_metric, Dataset\n",
    "\n",
    "# medium_datasets = load_dataset(\"csv\",\n",
    "#                                data_files=raw_dataset_path)\n",
    "\n",
    "# before using from_list,\n",
    "# need to make sure each key in the list has the same type of value\n",
    "timestamp_types = set([type(x['timestamp']) for x in dicts])\n",
    "print(timestamp_types)\n",
    "# clean up data\n",
    "filtered_data = []\n",
    "for data_line in dicts:\n",
    "    valid = True\n",
    "    for key,item in data_line.items():\n",
    "        if type(item) != str:\n",
    "            valid = False\n",
    "    if valid:\n",
    "        filtered_data.append(data_line)\n",
    "print(len(filtered_data))\n",
    "medium_dataset = Dataset.from_list(filtered_data[:5000])\n",
    "\n"
   ]
  },
  {
   "cell_type": "code",
   "execution_count": 4,
   "id": "4e19b8e5-e21f-41fb-b862-c4a83b28efcf",
   "metadata": {},
   "outputs": [
    {
     "name": "stderr",
     "output_type": "stream",
     "text": [
      "Filter: 100%|███████████████████████████████████████████████████████| 5000/5000 [00:00<00:00, 90732.38 examples/s]\n"
     ]
    }
   ],
   "source": [
    "# process data for training https://huggingface.co/docs/datasets/en/process\n",
    "# split first so there's no leaking\n",
    "medium_dataset = medium_dataset.filter(\n",
    "    lambda example: (len(example['text']) >= 500) and\n",
    "    (len(example['title']) >= 20)\n",
    ")\n",
    "medium_dataset = medium_dataset.train_test_split(test_size=1000)\n"
   ]
  },
  {
   "cell_type": "code",
   "execution_count": 5,
   "id": "d7b75f1c-5c19-4cb6-868a-538cf1be2de6",
   "metadata": {},
   "outputs": [
    {
     "name": "stderr",
     "output_type": "stream",
     "text": [
      "[nltk_data] Downloading package punkt to /home/agent_h/nltk_data...\n",
      "[nltk_data]   Package punkt is already up-to-date!\n"
     ]
    }
   ],
   "source": [
    "# process for training\n",
    "import nltk\n",
    "import string\n",
    "nltk.download('punkt')\n",
    "from transformers import AutoModelForSeq2SeqLM, AutoTokenizer\n",
    "\n",
    "model = AutoModelForSeq2SeqLM.from_pretrained(\"/data/agent_h/llms/umt5-small\")\n",
    "tokenizer = AutoTokenizer.from_pretrained(\"/data/agent_h/llms/umt5-small\")\n",
    "\n",
    "prefix = \"summarize: \"\n",
    "max_input_length = 512\n",
    "max_target_length = 64\n",
    "\n",
    "\n",
    "def clean_text(text):\n",
    "    \"\"\"\n",
    "    add \\n to sentences, remove title\n",
    "    \"\"\"\n",
    "    sentences = nltk.sent_tokenize(text.strip())\n",
    "    sentences_cleaned = [s for sent in sentences for s in sent.split(\"\\n\")]\n",
    "    sentences_cleaned_no_titles = [sent for sent in sentences_cleaned\n",
    "                                 if len(sent) > 0 and\n",
    "                                 sent[-1] in string.punctuation]\n",
    "    text_cleaned = \"\\n\".join(sentences_cleaned_no_titles)\n",
    "    return text_cleaned\n",
    "\n",
    "#pprint(clean_text(medium_dataset['train'][0]['text']))\n",
    "\n",
    "def preprocess_data(examples):\n",
    "    \"turn into tokens for labels and input_ids\"\n",
    "    texts_cleaned = [clean_text(text) for text in examples[\"text\"]]\n",
    "    inputs = [prefix + text for text in texts_cleaned]\n",
    "    model_inputs = tokenizer(inputs, max_length=max_input_length, truncation=True)\n",
    "    \n",
    "    # Setup the tokenizer for targets\n",
    "    with tokenizer.as_target_tokenizer():\n",
    "        labels = tokenizer(examples[\"title\"], max_length=max_target_length, \n",
    "                           truncation=True)\n",
    "    \n",
    "    model_inputs[\"labels\"] = labels[\"input_ids\"]\n",
    "    return model_inputs\n",
    "\n",
    "import numpy as np\n",
    "\n",
    "def compute_metrics(eval_pred):\n",
    "    predictions, labels = eval_pred\n",
    "    decoded_preds = tokenizer.batch_decode(predictions, skip_special_tokens=True)\n",
    "    \n",
    "    # Replace -100 in the labels as we can't decode them.\n",
    "    labels = np.where(labels != -100, labels, tokenizer.pad_token_id)\n",
    "    decoded_labels = tokenizer.batch_decode(labels, skip_special_tokens=True)\n",
    "    \n",
    "    # Rouge expects a newline after each sentence\n",
    "    decoded_preds = [\"\\n\".join(nltk.sent_tokenize(pred.strip()))\n",
    "                      for pred in decoded_preds]\n",
    "    decoded_labels = [\"\\n\".join(nltk.sent_tokenize(label.strip())) \n",
    "                      for label in decoded_labels]\n",
    "    \n",
    "    # Compute ROUGE scores\n",
    "    result = metric.compute(predictions=decoded_preds, references=decoded_labels,\n",
    "                            use_stemmer=True)\n",
    "\n",
    "    # Extract ROUGE f1 scores\n",
    "    result = {key: value.mid.fmeasure * 100 for key, value in result.items()}\n",
    "    \n",
    "    # Add mean generated length to metrics\n",
    "    prediction_lens = [np.count_nonzero(pred != tokenizer.pad_token_id)\n",
    "                      for pred in predictions]\n",
    "    result[\"gen_len\"] = np.mean(prediction_lens)\n",
    "    \n",
    "    return {k: round(v, 4) for k, v in result.items()}\n",
    "\n",
    "# examples = medium_dataset['test'][:100]\n",
    "# tmp_data = preprocess_data(examples)\n",
    "# print(examples['text'][8])\n",
    "# tokenizer.decode(tmp_data['input_ids'][8])"
   ]
  },
  {
   "cell_type": "code",
   "execution_count": 6,
   "id": "d82e0694-eb69-480b-9250-517a5d42b2b3",
   "metadata": {},
   "outputs": [
    {
     "name": "stderr",
     "output_type": "stream",
     "text": [
      "Map:   0%|                                                                        | 0/3627 [00:00<?, ? examples/s]/home/agent_h/miniconda3/envs/vsr3/lib/python3.10/site-packages/transformers/tokenization_utils_base.py:3946: UserWarning: `as_target_tokenizer` is deprecated and will be removed in v5 of Transformers. You can tokenize your labels by using the argument `text_target` of the regular `__call__` method (either in the same call as your input texts if you use the same keyword arguments, or in a separate call.\n",
      "  warnings.warn(\n",
      "Map: 100%|████████████████████████████████████████████████████████████| 3627/3627 [00:05<00:00, 685.43 examples/s]\n",
      "Map: 100%|████████████████████████████████████████████████████████████| 1000/1000 [00:01<00:00, 703.02 examples/s]\n"
     ]
    }
   ],
   "source": [
    "tokenized_datasets = medium_dataset.map(preprocess_data,\n",
    "                                        batched=True)"
   ]
  },
  {
   "cell_type": "code",
   "execution_count": 8,
   "id": "c1ea4a58-4ce4-42e0-b51f-0cb16937b928",
   "metadata": {},
   "outputs": [
    {
     "name": "stderr",
     "output_type": "stream",
     "text": [
      "/home/agent_h/miniconda3/envs/vsr3/lib/python3.10/site-packages/transformers/training_args.py:1474: FutureWarning: `evaluation_strategy` is deprecated and will be removed in version 4.46 of 🤗 Transformers. Use `eval_strategy` instead\n",
      "  warnings.warn(\n",
      "/home/agent_h/miniconda3/envs/vsr3/lib/python3.10/site-packages/datasets/load.py:759: FutureWarning: The repository for rouge contains custom code which must be executed to correctly load the metric. You can inspect the repository content at https://raw.githubusercontent.com/huggingface/datasets/2.19.1/metrics/rouge/rouge.py\n",
      "You can avoid this message in future by passing the argument `trust_remote_code=True`.\n",
      "Passing `trust_remote_code=True` will be mandatory to load this metric from the next major release of `datasets`.\n",
      "  warnings.warn(\n",
      "Using the latest cached version of the module from /home/agent_h/.cache/huggingface/modules/datasets_modules/metrics/rouge/457c405cab0bd19db749b46bf15a1a3cff4d54f50e7ab868c293e5ece288425e (last modified on Tue May 21 16:40:41 2024) since it couldn't be found locally at rouge, or remotely on the Hugging Face Hub.\n",
      "Detected kernel version 5.4.0, which is below the recommended minimum of 5.5.0; this can cause the process to hang. It is recommended to upgrade the kernel to the minimum version or higher.\n"
     ]
    }
   ],
   "source": [
    "# start training\n",
    "\n",
    "from transformers import AutoModelForSeq2SeqLM, DataCollatorForSeq2Seq, Seq2SeqTrainingArguments, Seq2SeqTrainer\n",
    "\n",
    "batch_size = 8\n",
    "base_model = \"/data/agent_h/llms/umt5-small\"\n",
    "model_name = \"umt5-small-medium-title-generation\"\n",
    "model_dir = f\"/data/agent_h/checkpoints/{model_name}\"\n",
    "\n",
    "args = Seq2SeqTrainingArguments(\n",
    "    model_dir,\n",
    "    evaluation_strategy=\"steps\",\n",
    "    eval_steps=100,\n",
    "    logging_strategy=\"steps\",\n",
    "    logging_steps=100,\n",
    "    save_strategy=\"steps\",\n",
    "    save_steps=200,\n",
    "    learning_rate=4e-5,\n",
    "    per_device_train_batch_size=batch_size,\n",
    "    per_device_eval_batch_size=batch_size,\n",
    "    weight_decay=0.01,\n",
    "    save_total_limit=3,\n",
    "    num_train_epochs=1,\n",
    "    predict_with_generate=True,\n",
    "    fp16=True,\n",
    "    load_best_model_at_end=True,\n",
    "    metric_for_best_model=\"rouge1\",\n",
    "    report_to=\"tensorboard\"\n",
    ")\n",
    "data_collator = DataCollatorForSeq2Seq(tokenizer)\n",
    "metric = load_metric(\"rouge\")\n",
    "\n",
    "def model_init():\n",
    "    return AutoModelForSeq2SeqLM.from_pretrained(base_model)\n",
    "\n",
    "trainer = Seq2SeqTrainer(\n",
    "    model_init=model_init,\n",
    "    args=args,\n",
    "    train_dataset=tokenized_datasets[\"train\"],\n",
    "    eval_dataset=tokenized_datasets[\"test\"],\n",
    "    data_collator=data_collator,\n",
    "    tokenizer=tokenizer,\n",
    "    compute_metrics=compute_metrics\n",
    ")\n",
    "\n",
    "\n"
   ]
  },
  {
   "cell_type": "code",
   "execution_count": null,
   "id": "600377f8-ecb4-4bd0-b3db-c9384f003579",
   "metadata": {},
   "outputs": [],
   "source": [
    "%load_ext tensorboard\n",
    "%tensorboard --logdir '{model_dir}'/runs"
   ]
  },
  {
   "cell_type": "code",
   "execution_count": null,
   "id": "f3e7b6aa-d036-4a6c-a543-d0610308252d",
   "metadata": {},
   "outputs": [],
   "source": [
    "trainer.train()\n",
    "#https://colab.research.google.com/github/huggingface/notebooks/blob/main/examples/summarization.ipynb"
   ]
  },
  {
   "cell_type": "code",
   "execution_count": null,
   "id": "5672d2ab-25c3-4c26-bce5-6e421f2f68e4",
   "metadata": {},
   "outputs": [],
   "source": [
    "from transformers import AutoModelForSeq2SeqLM, AutoTokenizer\n",
    "\n",
    "model = AutoModelForSeq2SeqLM.from_pretrained(\"/data/agent_h/llms/umt5-small\")\n",
    "tokenizer = AutoTokenizer.from_pretrained(\"/data/agent_h/llms/umt5-small\")\n",
    "\n",
    "inputs = tokenizer(\n",
    "    \"国家\",\n",
    "    return_tensors=\"pt\",\n",
    ")\n",
    "outputs = model.generate(**inputs)\n",
    "print(tokenizer.batch_decode(outputs))"
   ]
  },
  {
   "cell_type": "code",
   "execution_count": 21,
   "id": "cca08909-2b74-4bc7-a358-ca20e76acb23",
   "metadata": {},
   "outputs": [
    {
     "name": "stdout",
     "output_type": "stream",
     "text": [
      "生成标题：据深圳证券交易所近日公告，安徽晶奇网络科技股份有限公司在中国证监会审阅其IPO并在创业板上市申请文件的过程中，该公司与其保荐机构主动要求撤回注册申请文件。值得注意的是，该企业早在2021年就已“过会”。此外，浙江控阀2022年12月创业板IPO过会，一年多未提交注册，今年3月撤回IPO；博菱电器2022年11月创业板IPO过会，过会逾一年未提交注册，最终今年3月撤回IPO。中国人民大学中国资本市场研究院联席院长赵锡军在接受中新社直通车记者采访时表示，从公开资料来看，上述企业之所以主动撤回IPO申请，主要是在IPO自查过程中，发现公司在合规、板块定位、信息披露、会计处理等方面存在问题，及时纠正。企业之所以在IPO问题上如此积极自查自纠，这与当前中国资本市场“严监管”的风气密切相关。\n",
      "output: \n",
      "['<pad> 晶奇网络科技公司主动撤回IPO申请</s>']\n"
     ]
    }
   ],
   "source": [
    "from transformers import AutoModelForSeq2SeqLM, AutoTokenizer\n",
    "\n",
    "model_ckpt = \"/data/agent_h/checkpoints/umt5-small-medium-title-generation/checkpoint-32000\"\n",
    "model_ckpt = \"/data/agent_h/checkpoints/umt5-small-medium-title-generation-zh/checkpoint-54000\"\n",
    "model = AutoModelForSeq2SeqLM.from_pretrained(model_ckpt)\n",
    "tokenizer = AutoTokenizer.from_pretrained(model_ckpt)\n",
    "\n",
    "text = \"\"\"summarize: Combining both modern and traditional style architectures, with one side of the city being modernized and renovated to fit the times, and the other half still offering traditional hutong districts.[18] Beijing is one of the oldest cities in the world, with a rich history dating back over three millennia. As the last of the Four Great Ancient Capitals of China, Beijing has been the political center of the country for most of the past eight centuries,[19] and was the largest city in the world by population for much of the second millennium CE.[20] With mountains surrounding the inland city on three sides, in addition to the old inner and outer city walls, Beijing was strategically poised and developed to be the residence of the emperor and thus was the perfect location for the imperial capital. The city is renowned for its opulent palaces, temples, parks, gardens, tombs, walls and gates.[21] Beijing is one of the most important tourist destinations of the world. In 2018, Beijing was the second highest earning tourist city in the world after Shanghai.[22] Beijing is home to many national monuments and museums and has seven UNESCO World Heritage Sites—the Forbidden City, Temple of Heaven, Summer Palace, Ming Tombs, Zhoukoudian Peking Man Site, and parts of the Great Wall and the Grand Canal—all of which are popular tourist locations.[23] Siheyuans, the city's traditional housing style, and hutongs, the narrow alleys between siheyuans, are major tourist attractions and are common in urban Beijing.\"\"\"\n",
    "text = \"\"\"生成标题：近日，世界贸易组织(WTO)对中国第六次贸易政策审议在日内瓦顺利结束。此次审议过程中，中国经贸体制、贸易投资领域取得的新进展等多方面得到积极评价，各成员对中国成为其重要经贸合作伙伴十分重视。对此，专家指出，虽然上半年中国进出口双下降，但中国在全球贸易经济中的地位仍不断上升，尤其是中国外贸新旧动能转换释放出的强劲动力，将推动对外贸易继续回稳、向好，也将为全球贸易增长作出重要贡献。新动能持续积累优势上半年，我国进出口同比下降3.3%，进口、出口分别下降4.7%和2.1%。虽然进出口双下降，但我国外贸新旧动能转换正加快进程，贸易结构不断优化。海关总署数据显示，1-6月，我国一般贸易进出口占进出口总值的56.4%，比去年同期提升1.2个百分点;民企出口增长3.6%，占出口总值的46.6%，占比继续保持首位。“一般贸易占比的持续上升体现出中国自主产品的比重在上升、自主创新能力在增强，我国对外贸易正向高附加值端发展，如高新技术产业等新业态在我国外贸发展中的势头已越来越强劲。而民企出口的快速发展带来了更多活力，外贸中的国内资本和投入品的增加，为我国外贸健康发展及结构优化提供了新动能。”国家发改委对外经济研究所国际合作室主任张建平在接受本报记者采访时说。多边、双边经贸合作不断拓展则为我国外贸提供了更大发展空间。海关总署新闻发言人黄颂平指出，上半年，我国对部分“一带一路”沿线国家出口增长。另外，已有22个国家或地区与我国签署并实施自贸协定，上半年，与上述国家或地区的进出口表现好于同期我国进出口总体降幅。商务部研究院国际市场研究部副主任白明表示，上半年，大型成套产品出口保持正增长，这个领域的商品技术含量高，附加值也比较高，跟一般的传统商品相比，它更是我们发展的一个方向。跨境电商贸易、市场采购贸易等新型外贸商业模式正成为新的外贸增长点。中国贸促会副会长尹宗华指出，去年我国的跨境电子商务规模为5.4万亿元人民币，预计今年可能会达到6.5万亿元人民币，对于促进外贸稳增长、调结构发挥了重要作用。“机器换人”降低成本随着新旧动能转换的持续推进，传统动能这一曾经的外贸主要贡献者正面临困境。海关总署数据显示，截至今年6月份，我国的加工贸易进口、出口已经分别连续18个月和16个月下降。今年上半年，加工贸易进出口下降9.8%，拖累我国外贸进出口整体下降约3个百分点。“加工贸易等传统动能对于当前的中国外贸而言仍很重要，它既可以推动贸易均衡发展，也能够为就业提供保障。对于加工贸易的下降，我们在顺应市场规律的前提下，还要充分发掘其潜力，这包括了结构的改善与量的增长。”张建平说，而要充分发掘这一潜力，则要在保留优势的基础上提高其在价值链中的地位，并不断提高贸易便利化水平。 \"\"\"\n",
    "text = \"\"\"生成标题：据深圳证券交易所近日公告，安徽晶奇网络科技股份有限公司在中国证监会审阅其IPO并在创业板上市申请文件的过程中，该公司与其保荐机构主动要求撤回注册申请文件。值得注意的是，该企业早在2021年就已“过会”。此外，浙江控阀2022年12月创业板IPO过会，一年多未提交注册，今年3月撤回IPO；博菱电器2022年11月创业板IPO过会，过会逾一年未提交注册，最终今年3月撤回IPO。中国人民大学中国资本市场研究院联席院长赵锡军在接受中新社直通车记者采访时表示，从公开资料来看，上述企业之所以主动撤回IPO申请，主要是在IPO自查过程中，发现公司在合规、板块定位、信息披露、会计处理等方面存在问题，及时纠正。企业之所以在IPO问题上如此积极自查自纠，这与当前中国资本市场“严监管”的风气密切相关。\"\"\"\n",
    "inputs = tokenizer(\n",
    "    text,\n",
    "    return_tensors=\"pt\",\n",
    ")\n",
    "outputs = model.generate(**inputs)\n",
    "print(text)\n",
    "print(\"output: \")\n",
    "print(tokenizer.batch_decode(outputs))"
   ]
  },
  {
   "cell_type": "code",
   "execution_count": null,
   "id": "f80c06af-16eb-4103-9dd1-ccbcdb3b4c3b",
   "metadata": {},
   "outputs": [],
   "source": []
  }
 ],
 "metadata": {
  "kernelspec": {
   "display_name": "Python 3 (ipykernel)",
   "language": "python",
   "name": "python3"
  },
  "language_info": {
   "codemirror_mode": {
    "name": "ipython",
    "version": 3
   },
   "file_extension": ".py",
   "mimetype": "text/x-python",
   "name": "python",
   "nbconvert_exporter": "python",
   "pygments_lexer": "ipython3",
   "version": "3.10.14"
  }
 },
 "nbformat": 4,
 "nbformat_minor": 5
}
