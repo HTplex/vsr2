{
 "cells": [
  {
   "cell_type": "code",
   "execution_count": 1,
   "id": "dcf0bbce-66db-4b30-936c-0ec180372381",
   "metadata": {},
   "outputs": [
    {
     "name": "stdout",
     "output_type": "stream",
     "text": [
      "CUDA enabled: True\n"
     ]
    }
   ],
   "source": [
    "import torch\n",
    "print('CUDA enabled:', torch.cuda.is_available())"
   ]
  },
  {
   "cell_type": "code",
   "execution_count": null,
   "id": "64e24b62-d665-484c-91f8-f76ffaa24f05",
   "metadata": {},
   "outputs": [
    {
     "name": "stdout",
     "output_type": "stream",
     "text": [
      "19123\n",
      "/data/agent_h/datasets_chunyu/clip_videos_v3/2020-01-09/2020-01-09_3.mp4\n"
     ]
    },
    {
     "name": "stderr",
     "output_type": "stream",
     "text": [
      " 68%|█████████████████████████▎           | 1.97G/2.88G [03:35<01:24, 11.5MiB/s]"
     ]
    }
   ],
   "source": [
    "import whisper\n",
    "from glob import glob\n",
    "from time import time\n",
    "\n",
    "all_video_paths = glob(\"/data/agent_h/datasets_chunyu/clip_videos_v3/**/*.mp4\", recursive=True)\n",
    "print(len(all_video_paths))\n",
    "sample_video = all_video_paths[0]\n",
    "print(sample_video)\n",
    "\n",
    "model = whisper.load_model(\"large-v3\")\n",
    "\n",
    "t = time()\n",
    "result = model.transcribe(sample_video,\n",
    "                          word_timestamps=True,\n",
    "                          language=\"zh\")\n",
    "\n",
    "print(\"time: \", time()-t)\n",
    "print(result[\"text\"])\n",
    "\n",
    "# tiny\t39 M\t✓\t✓\n",
    "# base\t74 M\t✓\t✓\n",
    "# small\t244 M\t✓\t✓\n",
    "# medium\t769 M\t✓\t✓\n",
    "# large\t1550 M\t\t✓\n",
    "# large v2 2022.12\n",
    "# large v3 2023.11\n",
    "# huggingface works too\n",
    "\n"
   ]
  },
  {
   "cell_type": "code",
   "execution_count": 4,
   "id": "174330fa-0760-41e4-9f9b-cddbaf6b9466",
   "metadata": {},
   "outputs": [
    {
     "name": "stdout",
     "output_type": "stream",
     "text": [
      "<class 'dict'>\n"
     ]
    }
   ],
   "source": []
  },
  {
   "cell_type": "code",
   "execution_count": null,
   "id": "e9fc3a58-43d3-4ad1-84e2-943340f94c62",
   "metadata": {},
   "outputs": [],
   "source": [
    "prompt='以下是普通话的句子'\n",
    "result = model.transcribe(audioFile, task='translate',language='zh',verbose=True,initial_prompt=prompt)\n",
    "\n",
    "import whisper\n",
    "model = whisper.load_model(\"large\")\n",
    "transcript = model.transcribe(\n",
    "    word_timestamps=True,\n",
    "    audio=\"toto.mp3\"\n",
    ")\n",
    "for segment in transcript['segments']:\n",
    "    print(''.join(f\"{word['word']}[{word['start']}/{word['end']}]\" \n",
    "                    for word in segment['words']))"
   ]
  }
 ],
 "metadata": {
  "kernelspec": {
   "display_name": "Python 3 (ipykernel)",
   "language": "python",
   "name": "python3"
  },
  "language_info": {
   "codemirror_mode": {
    "name": "ipython",
    "version": 3
   },
   "file_extension": ".py",
   "mimetype": "text/x-python",
   "name": "python",
   "nbconvert_exporter": "python",
   "pygments_lexer": "ipython3",
   "version": "3.10.14"
  }
 },
 "nbformat": 4,
 "nbformat_minor": 5
}
