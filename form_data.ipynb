{
 "cells": [
  {
   "cell_type": "code",
   "execution_count": 6,
   "id": "2ca3806b-6eda-499a-9b15-00b117e06328",
   "metadata": {},
   "outputs": [
    {
     "name": "stdout",
     "output_type": "stream",
     "text": [
      "/data/agent_h/datasets_chunyu/clip_videos_v3/2016-07-10/2016-07-10_0.mp4\n",
      "/data/agent_h/datasets_chunyu/whisper_result_v3/2016-07-10_0_whisper.json\n",
      "/data/agent_h/datasets_chunyu/vsr_landmark_result_v3/2016-07-10_0.FaceLandmarkerResultListzip\n"
     ]
    }
   ],
   "source": [
    "from glob import glob\n",
    "from os.path import join\n",
    "\n",
    "\n",
    "video_root = \"/data/agent_h/datasets_chunyu/clip_videos_v3/\"\n",
    "video_paths = sorted(glob(join(video_root,\"**/*.mp4\"),recursive=True))\n",
    "whisper_root = \"/data/agent_h/datasets_chunyu/whisper_result_v3/\"\n",
    "whisper_paths = sorted(glob(join(whisper_root,\"*\")))\n",
    "mediapipe_root = \"/data/agent_h/datasets_chunyu/vsr_landmark_result_v3/\"\n",
    "mediapipe_root = sorted(glob(join(mediapipe_root,\"*\")))\n",
    "\n",
    "# 1. form whiper and face into frames\n",
    "\n",
    "print(video_path[0])\n",
    "print(whisper_paths[0])\n",
    "print(mediapipe_root[0])\n"
   ]
  },
  {
   "cell_type": "code",
   "execution_count": 18,
   "id": "a817a7bc-6077-4304-a908-eff8e159ab4c",
   "metadata": {},
   "outputs": [
    {
     "name": "stdout",
     "output_type": "stream",
     "text": [
      "164\n"
     ]
    }
   ],
   "source": [
    "# clean whisper\n",
    "from pprint import pprint\n",
    "import json\n",
    "import itertools\n",
    "\n",
    "json_path = whisper_paths[0]\n",
    "with open(json_path, 'r') as fp:\n",
    "    whisper_result = json.load(fp)\n",
    "\n",
    "def get_whisper_text_windows(whisper_result, clip_len=15, window_len=3):\n",
    "    # get words list\n",
    "    all_words = [x['words'] for x in whisper_result['segments']]\n",
    "    flattened_words = list(itertools.chain.from_iterable(all_words))\n",
    "    # pprint(flattened_words)\n",
    "    print(len(flattened_words))\n",
    "\n",
    "\n",
    "get_whisper_text_windows(whisper_result, clip_len=15, window_len=3)\n"
   ]
  },
  {
   "cell_type": "code",
   "execution_count": 43,
   "id": "95c10ccf-451a-4b8e-83ab-d253dcec13c7",
   "metadata": {},
   "outputs": [
    {
     "name": "stdout",
     "output_type": "stream",
     "text": [
      "1139 frames\n",
      "478 landmarks per frame\n",
      "NormalizedLandmark(x=0.18704485893249512, y=0.41934093832969666, z=-0.00774889113381505, visibility=0.0, presence=0.0)\n"
     ]
    },
    {
     "data": {
      "image/png": "[encoded data removed]",
      "text/plain": [
       "<Figure size 2000x300 with 1 Axes>"
      ]
     },
     "metadata": {},
     "output_type": "display_data"
    }
   ],
   "source": [
    "# clean mediapipe result\n",
    "import gzip\n",
    "import pickle\n",
    "import numpy as np\n",
    "import mediapipe as mp\n",
    "import cv2\n",
    "from mediapipe_util import *\n",
    "import cv2\n",
    "\n",
    "def draw_landmarks_on_video(mediapipe_result, output_path, height=1080, width=1920):\n",
    "        # Get the dimensions of the first frame\n",
    "\n",
    "        # Create a VideoWriter object to save the video\n",
    "        fourcc = cv2.VideoWriter_fourcc(*'mp4v')\n",
    "        out = cv2.VideoWriter(output_path, fourcc, 25, (width, height))\n",
    "\n",
    "        # Iterate through each frame in the mediapipe_result\n",
    "        for mediapipe_frame in mediapipe_result:\n",
    "            # Draw the face landmarks on the frame\n",
    "            canvas = np.zeros((height,width,3),dtype=np.uint8)\n",
    "            canvas = draw_landmarks_on_image(canvas, mediapipe_frame)\n",
    "\n",
    "            # Write the frame to the video file\n",
    "            out.write(canvas)\n",
    "\n",
    "        # Release the VideoWriter object\n",
    "        out.release()\n",
    "\n",
    "def get_mediapipe_windows(mediapipe_path, clip_len=15, window_len=3,fps=25):\n",
    "    with gzip.open(mediapipe_path, 'r') as fp:\n",
    "        # load pickle\n",
    "        mediapipe_result = pickle.load(fp)\n",
    "    print(len(mediapipe_result), \"frames\") \n",
    "    print(len(mediapipe_result[0].face_landmarks[0]), \"landmarks per frame\")\n",
    "    print(mediapipe_result[0].face_landmarks[0][0])\n",
    "    # example: draw mediapipe face landmarks on black canvas for every frame\n",
    "    demo = True\n",
    "    if demo:\n",
    "        canvas = np.zeros((1080,1920,3),dtype=np.uint8)\n",
    "        canvas = draw_landmarks_on_image(canvas, mediapipe_result[0])\n",
    "        show_img_np(canvas)\n",
    "        \n",
    "    \n",
    "    # draw_landmarks_on_video(mediapipe_result, output_path)\n",
    "    # Call the function to draw landmarks on the video and save it\n",
    "    draw_landmarks_on_video(mediapipe_result, 'output.mp4')\n",
    "    \n",
    "\n",
    "    # make face face front\n",
    "\n",
    "    # visualize\n",
    "\n",
    "\n",
    "    \n",
    "\n",
    "    \n",
    "\n",
    "    \n",
    "    \n",
    "\n",
    "get_mediapipe_windows(mediapipe_root[0], clip_len=15, window_len=3)\n",
    "\n"
   ]
  },
  {
   "cell_type": "code",
   "execution_count": null,
   "id": "9489d2e2-5859-47ec-9b92-aed4dadcf3fa",
   "metadata": {},
   "outputs": [],
   "source": [
    "# media\n",
    "\n",
    "def get_clip_windows(): # debug\n",
    "    pass\n",
    "\n",
    "def get_mouth_windows_fron_clip: # use later\n",
    "    pass"
   ]
  }
 ],
 "metadata": {
  "kernelspec": {
   "display_name": "Python 3 (ipykernel)",
   "language": "python",
   "name": "python3"
  },
  "language_info": {
   "codemirror_mode": {
    "name": "ipython",
    "version": 3
   },
   "file_extension": ".py",
   "mimetype": "text/x-python",
   "name": "python",
   "nbconvert_exporter": "python",
   "pygments_lexer": "ipython3",
   "version": "3.10.14"
  }
 },
 "nbformat": 4,
 "nbformat_minor": 5
}
