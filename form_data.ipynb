{
 "cells": [
  {
   "cell_type": "code",
   "execution_count": 6,
   "id": "2ca3806b-6eda-499a-9b15-00b117e06328",
   "metadata": {},
   "outputs": [
    {
     "name": "stdout",
     "output_type": "stream",
     "text": [
      "/data/agent_h/datasets_chunyu/clip_videos_v3/2016-07-10/2016-07-10_0.mp4\n",
      "/data/agent_h/datasets_chunyu/whisper_result_v3/2016-07-10_0_whisper.json\n",
      "/data/agent_h/datasets_chunyu/vsr_landmark_result_v3/2016-07-10_0.FaceLandmarkerResultListzip\n"
     ]
    }
   ],
   "source": [
    "from glob import glob\n",
    "from os.path import join\n",
    "\n",
    "\n",
    "video_root = \"/data/agent_h/datasets_chunyu/clip_videos_v3/\"\n",
    "video_paths = sorted(glob(join(video_root,\"**/*.mp4\"),recursive=True))\n",
    "whisper_root = \"/data/agent_h/datasets_chunyu/whisper_result_v3/\"\n",
    "whisper_paths = sorted(glob(join(whisper_root,\"*\")))\n",
    "mediapipe_root = \"/data/agent_h/datasets_chunyu/vsr_landmark_result_v3/\"\n",
    "mediapipe_root = sorted(glob(join(mediapipe_root,\"*\")))\n",
    "\n",
    "# 1. form whiper and face into frames\n",
    "\n",
    "print(video_path[0])\n",
    "print(whisper_paths[0])\n",
    "print(mediapipe_root[0])\n"
   ]
  },
  {
   "cell_type": "code",
   "execution_count": 18,
   "id": "a817a7bc-6077-4304-a908-eff8e159ab4c",
   "metadata": {},
   "outputs": [
    {
     "name": "stdout",
     "output_type": "stream",
     "text": [
      "164\n"
     ]
    }
   ],
   "source": [
    "# clean whisper\n",
    "from pprint import pprint\n",
    "import json\n",
    "import itertools\n",
    "\n",
    "json_path = whisper_paths[0]\n",
    "with open(json_path, 'r') as fp:\n",
    "    whisper_result = json.load(fp)\n",
    "\n",
    "def get_whisper_text_windows(whisper_result, clip_len=15, window_len=3):\n",
    "    # get words list\n",
    "    all_words = [x['words'] for x in whisper_result['segments']]\n",
    "    flattened_words = list(itertools.chain.from_iterable(all_words))\n",
    "    # pprint(flattened_words)\n",
    "    print(len(flattened_words))\n",
    "\n",
    "\n",
    "get_whisper_text_windows(whisper_result, clip_len=15, window_len=3)\n"
   ]
  },
  {
   "cell_type": "code",
   "execution_count": 19,
   "id": "95c10ccf-451a-4b8e-83ab-d253dcec13c7",
   "metadata": {},
   "outputs": [
    {
     "name": "stderr",
     "output_type": "stream",
     "text": [
      "2024-04-23 10:31:35.094737: I tensorflow/core/util/port.cc:113] oneDNN custom operations are on. You may see slightly different numerical results due to floating-point round-off errors from different computation orders. To turn them off, set the environment variable `TF_ENABLE_ONEDNN_OPTS=0`.\n",
      "2024-04-23 10:31:35.134608: I tensorflow/core/platform/cpu_feature_guard.cc:210] This TensorFlow binary is optimized to use available CPU instructions in performance-critical operations.\n",
      "To enable the following instructions: AVX2 AVX512F AVX512_VNNI FMA, in other operations, rebuild TensorFlow with the appropriate compiler flags.\n",
      "2024-04-23 10:31:35.784264: W tensorflow/compiler/tf2tensorrt/utils/py_utils.cc:38] TF-TRT Warning: Could not find TensorRT\n"
     ]
    },
    {
     "ename": "AttributeError",
     "evalue": "module 'zlib' has no attribute 'open'",
     "output_type": "error",
     "traceback": [
      "\u001b[0;31m---------------------------------------------------------------------------\u001b[0m",
      "\u001b[0;31mAttributeError\u001b[0m                            Traceback (most recent call last)",
      "Cell \u001b[0;32mIn[19], line 14\u001b[0m\n\u001b[1;32m     11\u001b[0m         mediapipe_result \u001b[38;5;241m=\u001b[39m pickle\u001b[38;5;241m.\u001b[39mload(fp)\n\u001b[1;32m     12\u001b[0m     \u001b[38;5;28mprint\u001b[39m(mediapipe_result[\u001b[38;5;241m0\u001b[39m])\n\u001b[0;32m---> 14\u001b[0m \u001b[43mget_mediapipe_windows\u001b[49m\u001b[43m(\u001b[49m\u001b[43mmediapipe_root\u001b[49m\u001b[43m[\u001b[49m\u001b[38;5;241;43m0\u001b[39;49m\u001b[43m]\u001b[49m\u001b[43m,\u001b[49m\u001b[43m \u001b[49m\u001b[43mclip_len\u001b[49m\u001b[38;5;241;43m=\u001b[39;49m\u001b[38;5;241;43m15\u001b[39;49m\u001b[43m,\u001b[49m\u001b[43m \u001b[49m\u001b[43mwindow_len\u001b[49m\u001b[38;5;241;43m=\u001b[39;49m\u001b[38;5;241;43m3\u001b[39;49m\u001b[43m)\u001b[49m\n",
      "Cell \u001b[0;32mIn[19], line 9\u001b[0m, in \u001b[0;36mget_mediapipe_windows\u001b[0;34m(mediapipe_path, clip_len, window_len)\u001b[0m\n\u001b[1;32m      8\u001b[0m \u001b[38;5;28;01mdef\u001b[39;00m \u001b[38;5;21mget_mediapipe_windows\u001b[39m(mediapipe_path, clip_len\u001b[38;5;241m=\u001b[39m\u001b[38;5;241m15\u001b[39m, window_len\u001b[38;5;241m=\u001b[39m\u001b[38;5;241m3\u001b[39m):\n\u001b[0;32m----> 9\u001b[0m     \u001b[38;5;28;01mwith\u001b[39;00m \u001b[43mzlib\u001b[49m\u001b[38;5;241;43m.\u001b[39;49m\u001b[43mopen\u001b[49m(mediapipe_path, \u001b[38;5;124m'\u001b[39m\u001b[38;5;124mr\u001b[39m\u001b[38;5;124m'\u001b[39m) \u001b[38;5;28;01mas\u001b[39;00m fp:\n\u001b[1;32m     10\u001b[0m         \u001b[38;5;66;03m# load pickle\u001b[39;00m\n\u001b[1;32m     11\u001b[0m         mediapipe_result \u001b[38;5;241m=\u001b[39m pickle\u001b[38;5;241m.\u001b[39mload(fp)\n\u001b[1;32m     12\u001b[0m     \u001b[38;5;28mprint\u001b[39m(mediapipe_result[\u001b[38;5;241m0\u001b[39m])\n",
      "\u001b[0;31mAttributeError\u001b[0m: module 'zlib' has no attribute 'open'"
     ]
    }
   ],
   "source": [
    "# clean mediapipe result\n",
    "import zlib\n",
    "import pickle\n",
    "import numpy as np\n",
    "import mediapipe as mp\n",
    "\n",
    "\n",
    "def get_mediapipe_windows(mediapipe_path, clip_len=15, window_len=3):\n",
    "    with zlib.open(mediapipe_path, 'r') as fp:\n",
    "        # load pickle\n",
    "        mediapipe_result = pickle.load(fp)\n",
    "    print(mediapipe_result[0])\n",
    "\n",
    "get_mediapipe_windows(mediapipe_root[0], clip_len=15, window_len=3)\n",
    "    "
   ]
  },
  {
   "cell_type": "code",
   "execution_count": null,
   "id": "9489d2e2-5859-47ec-9b92-aed4dadcf3fa",
   "metadata": {},
   "outputs": [],
   "source": [
    "# media\n",
    "\n",
    "def get_clip_windows(): # debug\n",
    "    pass\n",
    "\n",
    "def get_mouth_windows_fron_clip: # use later\n",
    "    pass"
   ]
  }
 ],
 "metadata": {
  "kernelspec": {
   "display_name": "Python 3 (ipykernel)",
   "language": "python",
   "name": "python3"
  },
  "language_info": {
   "codemirror_mode": {
    "name": "ipython",
    "version": 3
   },
   "file_extension": ".py",
   "mimetype": "text/x-python",
   "name": "python",
   "nbconvert_exporter": "python",
   "pygments_lexer": "ipython3",
   "version": "3.10.14"
  }
 },
 "nbformat": 4,
 "nbformat_minor": 5
}
